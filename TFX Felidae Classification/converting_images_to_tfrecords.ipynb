{
 "cells": [
  {
   "cell_type": "code",
   "execution_count": 4,
   "metadata": {},
   "outputs": [
    {
     "name": "stdout",
     "output_type": "stream",
     "text": [
      "Skipping image C:/Users/Guillermo/Desktop/My_projects/Data/Felidae\\Lion\\Lion_037.jpg with shape (598, 479, 4)\n",
      "Skipping image C:/Users/Guillermo/Desktop/My_projects/Data/Felidae\\Puma\\Puma_003.jpg with shape (200, 340)\n"
     ]
    }
   ],
   "source": [
    "import os\n",
    "import random\n",
    "import shutil\n",
    "import tensorflow as tf\n",
    "from PIL import Image\n",
    "import numpy as np\n",
    "\n",
    "def _bytes_feature(value):\n",
    "    return tf.train.Feature(bytes_list=tf.train.BytesList(value=[value]))\n",
    "\n",
    "def _int64_feature(value):\n",
    "    return tf.train.Feature(int64_list=tf.train.Int64List(value=[value]))\n",
    "\n",
    "def convert_to_tfrecords_split(input_dir, output_dir, train_split=0.8):\n",
    "    for root, dirs, files in os.walk(input_dir):\n",
    "        for file in files:\n",
    "            if file.endswith('.jpg') or file.endswith('.png'):\n",
    "                img_path = os.path.join(root, file)\n",
    "                label = os.path.basename(root)\n",
    "\n",
    "                img = Image.open(img_path)\n",
    "                img_array = np.array(img)\n",
    "                shape = img_array.shape\n",
    "\n",
    "                if len(shape) == 3 and shape[2] == 3:  # Check if the image is RGB\n",
    "                    img = img.convert('RGB')  # Convert image to RGB\n",
    "                    img_bytes = tf.io.encode_jpeg(img_array).numpy()\n",
    "\n",
    "                    # Create a tf.Example containing JUST image data and label\n",
    "                    example = tf.train.Example(features=tf.train.Features(feature={\n",
    "                        'label': _bytes_feature(label.encode('utf-8')),\n",
    "                        'image_raw': _bytes_feature(img_bytes),\n",
    "                    }))\n",
    "\n",
    "                    # Determine whether to save the example to the train or eval folder\n",
    "                    split_folder = 'train' if random.random() < train_split else 'eval'\n",
    "                    relative_path = os.path.relpath(root, input_dir)\n",
    "                    output_subdir = os.path.join(output_dir, relative_path, split_folder)\n",
    "                    os.makedirs(output_subdir, exist_ok=True)\n",
    "\n",
    "                    # Save the tf.Example to a TFRecord file\n",
    "                    tfrecord_file = os.path.join(output_subdir, file + '.tfrecord')\n",
    "                    with tf.io.TFRecordWriter(tfrecord_file) as writer:\n",
    "                        writer.write(example.SerializeToString())\n",
    "                else:\n",
    "                    # Display the image with its shape and skip it\n",
    "                    print(f\"Skipping image {img_path} with shape {shape}\")\n",
    "                    img.show()\n",
    "\n",
    "# Convert images in the Felidae directory to TFRecords and split them\n",
    "input_dir = 'C:/Users/Guillermo/Desktop/My_projects/Data/Felidae'\n",
    "output_dir = 'felidae_tfrecords_split'\n",
    "convert_to_tfrecords_split(input_dir, output_dir)\n"
   ]
  }
 ],
 "metadata": {
  "kernelspec": {
   "display_name": "tfx_env",
   "language": "python",
   "name": "python3"
  },
  "language_info": {
   "codemirror_mode": {
    "name": "ipython",
    "version": 3
   },
   "file_extension": ".py",
   "mimetype": "text/x-python",
   "name": "python",
   "nbconvert_exporter": "python",
   "pygments_lexer": "ipython3",
   "version": "3.9.16"
  },
  "orig_nbformat": 4
 },
 "nbformat": 4,
 "nbformat_minor": 2
}
